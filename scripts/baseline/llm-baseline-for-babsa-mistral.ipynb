{
 "cells": [
  {
   "cell_type": "code",
   "execution_count": 1,
   "metadata": {
    "_cell_guid": "b1076dfc-b9ad-4769-8c92-a6c4dae69d19",
    "_uuid": "8f2839f25d086af736a60e9eeb907d3b93b6e0e5",
    "execution": {
     "iopub.execute_input": "2025-08-01T06:38:20.894965Z",
     "iopub.status.busy": "2025-08-01T06:38:20.894680Z",
     "iopub.status.idle": "2025-08-01T06:38:21.276501Z",
     "shell.execute_reply": "2025-08-01T06:38:21.275670Z",
     "shell.execute_reply.started": "2025-08-01T06:38:20.894941Z"
    },
    "trusted": true
   },
   "outputs": [
    {
     "name": "stdout",
     "output_type": "stream",
     "text": [
      "/kaggle/input/babsatestset/test_set.csv\n"
     ]
    }
   ],
   "source": [
    "# This Python 3 environment comes with many helpful analytics libraries installed\n",
    "# It is defined by the kaggle/python Docker image: https://github.com/kaggle/docker-python\n",
    "# For example, here's several helpful packages to load\n",
    "\n",
    "import numpy as np # linear algebra\n",
    "import pandas as pd # data processing, CSV file I/O (e.g. pd.read_csv)\n",
    "\n",
    "# Input data files are available in the read-only \"../input/\" directory\n",
    "# For example, running this (by clicking run or pressing Shift+Enter) will list all files under the input directory\n",
    "\n",
    "import os\n",
    "for dirname, _, filenames in os.walk('/kaggle/input'):\n",
    "    for filename in filenames:\n",
    "        print(os.path.join(dirname, filename))\n",
    "\n",
    "# You can write up to 20GB to the current directory (/kaggle/working/) that gets preserved as output when you create a version using \"Save & Run All\" \n",
    "# You can also write temporary files to /kaggle/temp/, but they won't be saved outside of the current session"
   ]
  },
  {
   "cell_type": "code",
   "execution_count": 2,
   "metadata": {
    "execution": {
     "iopub.execute_input": "2025-08-01T06:38:21.278648Z",
     "iopub.status.busy": "2025-08-01T06:38:21.277821Z",
     "iopub.status.idle": "2025-08-01T06:38:24.904958Z",
     "shell.execute_reply": "2025-08-01T06:38:24.904109Z",
     "shell.execute_reply.started": "2025-08-01T06:38:21.278627Z"
    },
    "trusted": true
   },
   "outputs": [
    {
     "name": "stdout",
     "output_type": "stream",
     "text": [
      "Requirement already satisfied: bitsandbytes in /usr/local/lib/python3.11/dist-packages (0.46.1)\n",
      "Requirement already satisfied: accelerate in /usr/local/lib/python3.11/dist-packages (1.8.1)\n",
      "Requirement already satisfied: torch<3,>=2.2 in /usr/local/lib/python3.11/dist-packages (from bitsandbytes) (2.6.0+cu124)\n",
      "Requirement already satisfied: numpy>=1.17 in /usr/local/lib/python3.11/dist-packages (from bitsandbytes) (1.26.4)\n",
      "Requirement already satisfied: packaging>=20.0 in /usr/local/lib/python3.11/dist-packages (from accelerate) (25.0)\n",
      "Requirement already satisfied: psutil in /usr/local/lib/python3.11/dist-packages (from accelerate) (7.0.0)\n",
      "Requirement already satisfied: pyyaml in /usr/local/lib/python3.11/dist-packages (from accelerate) (6.0.2)\n",
      "Requirement already satisfied: huggingface_hub>=0.21.0 in /usr/local/lib/python3.11/dist-packages (from accelerate) (0.33.1)\n",
      "Requirement already satisfied: safetensors>=0.4.3 in /usr/local/lib/python3.11/dist-packages (from accelerate) (0.5.3)\n",
      "Requirement already satisfied: filelock in /usr/local/lib/python3.11/dist-packages (from huggingface_hub>=0.21.0->accelerate) (3.18.0)\n",
      "Requirement already satisfied: fsspec>=2023.5.0 in /usr/local/lib/python3.11/dist-packages (from huggingface_hub>=0.21.0->accelerate) (2025.5.1)\n",
      "Requirement already satisfied: requests in /usr/local/lib/python3.11/dist-packages (from huggingface_hub>=0.21.0->accelerate) (2.32.4)\n",
      "Requirement already satisfied: tqdm>=4.42.1 in /usr/local/lib/python3.11/dist-packages (from huggingface_hub>=0.21.0->accelerate) (4.67.1)\n",
      "Requirement already satisfied: typing-extensions>=3.7.4.3 in /usr/local/lib/python3.11/dist-packages (from huggingface_hub>=0.21.0->accelerate) (4.14.0)\n",
      "Requirement already satisfied: hf-xet<2.0.0,>=1.1.2 in /usr/local/lib/python3.11/dist-packages (from huggingface_hub>=0.21.0->accelerate) (1.1.5)\n",
      "Requirement already satisfied: mkl_fft in /usr/local/lib/python3.11/dist-packages (from numpy>=1.17->bitsandbytes) (1.3.8)\n",
      "Requirement already satisfied: mkl_random in /usr/local/lib/python3.11/dist-packages (from numpy>=1.17->bitsandbytes) (1.2.4)\n",
      "Requirement already satisfied: mkl_umath in /usr/local/lib/python3.11/dist-packages (from numpy>=1.17->bitsandbytes) (0.1.1)\n",
      "Requirement already satisfied: mkl in /usr/local/lib/python3.11/dist-packages (from numpy>=1.17->bitsandbytes) (2025.2.0)\n",
      "Requirement already satisfied: tbb4py in /usr/local/lib/python3.11/dist-packages (from numpy>=1.17->bitsandbytes) (2022.2.0)\n",
      "Requirement already satisfied: mkl-service in /usr/local/lib/python3.11/dist-packages (from numpy>=1.17->bitsandbytes) (2.4.1)\n",
      "Requirement already satisfied: networkx in /usr/local/lib/python3.11/dist-packages (from torch<3,>=2.2->bitsandbytes) (3.5)\n",
      "Requirement already satisfied: jinja2 in /usr/local/lib/python3.11/dist-packages (from torch<3,>=2.2->bitsandbytes) (3.1.6)\n",
      "Requirement already satisfied: nvidia-cuda-nvrtc-cu12==12.4.127 in /usr/local/lib/python3.11/dist-packages (from torch<3,>=2.2->bitsandbytes) (12.4.127)\n",
      "Requirement already satisfied: nvidia-cuda-runtime-cu12==12.4.127 in /usr/local/lib/python3.11/dist-packages (from torch<3,>=2.2->bitsandbytes) (12.4.127)\n",
      "Requirement already satisfied: nvidia-cuda-cupti-cu12==12.4.127 in /usr/local/lib/python3.11/dist-packages (from torch<3,>=2.2->bitsandbytes) (12.4.127)\n",
      "Requirement already satisfied: nvidia-cudnn-cu12==9.1.0.70 in /usr/local/lib/python3.11/dist-packages (from torch<3,>=2.2->bitsandbytes) (9.1.0.70)\n",
      "Requirement already satisfied: nvidia-cublas-cu12==12.4.5.8 in /usr/local/lib/python3.11/dist-packages (from torch<3,>=2.2->bitsandbytes) (12.4.5.8)\n",
      "Requirement already satisfied: nvidia-cufft-cu12==11.2.1.3 in /usr/local/lib/python3.11/dist-packages (from torch<3,>=2.2->bitsandbytes) (11.2.1.3)\n",
      "Requirement already satisfied: nvidia-curand-cu12==10.3.5.147 in /usr/local/lib/python3.11/dist-packages (from torch<3,>=2.2->bitsandbytes) (10.3.5.147)\n",
      "Requirement already satisfied: nvidia-cusolver-cu12==11.6.1.9 in /usr/local/lib/python3.11/dist-packages (from torch<3,>=2.2->bitsandbytes) (11.6.1.9)\n",
      "Requirement already satisfied: nvidia-cusparse-cu12==12.3.1.170 in /usr/local/lib/python3.11/dist-packages (from torch<3,>=2.2->bitsandbytes) (12.3.1.170)\n",
      "Requirement already satisfied: nvidia-cusparselt-cu12==0.6.2 in /usr/local/lib/python3.11/dist-packages (from torch<3,>=2.2->bitsandbytes) (0.6.2)\n",
      "Requirement already satisfied: nvidia-nccl-cu12==2.21.5 in /usr/local/lib/python3.11/dist-packages (from torch<3,>=2.2->bitsandbytes) (2.21.5)\n",
      "Requirement already satisfied: nvidia-nvtx-cu12==12.4.127 in /usr/local/lib/python3.11/dist-packages (from torch<3,>=2.2->bitsandbytes) (12.4.127)\n",
      "Requirement already satisfied: nvidia-nvjitlink-cu12==12.4.127 in /usr/local/lib/python3.11/dist-packages (from torch<3,>=2.2->bitsandbytes) (12.4.127)\n",
      "Requirement already satisfied: triton==3.2.0 in /usr/local/lib/python3.11/dist-packages (from torch<3,>=2.2->bitsandbytes) (3.2.0)\n",
      "Requirement already satisfied: sympy==1.13.1 in /usr/local/lib/python3.11/dist-packages (from torch<3,>=2.2->bitsandbytes) (1.13.1)\n",
      "Requirement already satisfied: mpmath<1.4,>=1.1.0 in /usr/local/lib/python3.11/dist-packages (from sympy==1.13.1->torch<3,>=2.2->bitsandbytes) (1.3.0)\n",
      "Requirement already satisfied: MarkupSafe>=2.0 in /usr/local/lib/python3.11/dist-packages (from jinja2->torch<3,>=2.2->bitsandbytes) (3.0.2)\n",
      "Requirement already satisfied: intel-openmp<2026,>=2024 in /usr/local/lib/python3.11/dist-packages (from mkl->numpy>=1.17->bitsandbytes) (2024.2.0)\n",
      "Requirement already satisfied: tbb==2022.* in /usr/local/lib/python3.11/dist-packages (from mkl->numpy>=1.17->bitsandbytes) (2022.2.0)\n",
      "Requirement already satisfied: tcmlib==1.* in /usr/local/lib/python3.11/dist-packages (from tbb==2022.*->mkl->numpy>=1.17->bitsandbytes) (1.4.0)\n",
      "Requirement already satisfied: intel-cmplr-lib-rt in /usr/local/lib/python3.11/dist-packages (from mkl_umath->numpy>=1.17->bitsandbytes) (2024.2.0)\n",
      "Requirement already satisfied: charset_normalizer<4,>=2 in /usr/local/lib/python3.11/dist-packages (from requests->huggingface_hub>=0.21.0->accelerate) (3.4.2)\n",
      "Requirement already satisfied: idna<4,>=2.5 in /usr/local/lib/python3.11/dist-packages (from requests->huggingface_hub>=0.21.0->accelerate) (3.10)\n",
      "Requirement already satisfied: urllib3<3,>=1.21.1 in /usr/local/lib/python3.11/dist-packages (from requests->huggingface_hub>=0.21.0->accelerate) (2.5.0)\n",
      "Requirement already satisfied: certifi>=2017.4.17 in /usr/local/lib/python3.11/dist-packages (from requests->huggingface_hub>=0.21.0->accelerate) (2025.6.15)\n",
      "Requirement already satisfied: intel-cmplr-lib-ur==2024.2.0 in /usr/local/lib/python3.11/dist-packages (from intel-openmp<2026,>=2024->mkl->numpy>=1.17->bitsandbytes) (2024.2.0)\n"
     ]
    }
   ],
   "source": [
    "!pip install bitsandbytes accelerate"
   ]
  },
  {
   "cell_type": "code",
   "execution_count": 3,
   "metadata": {
    "execution": {
     "iopub.execute_input": "2025-08-01T06:38:24.906243Z",
     "iopub.status.busy": "2025-08-01T06:38:24.905952Z",
     "iopub.status.idle": "2025-08-01T06:38:30.324049Z",
     "shell.execute_reply": "2025-08-01T06:38:30.323489Z",
     "shell.execute_reply.started": "2025-08-01T06:38:24.906190Z"
    },
    "trusted": true
   },
   "outputs": [],
   "source": [
    "import pandas as pd\n",
    "import torch\n",
    "from transformers import AutoTokenizer, AutoModelForCausalLM, BitsAndBytesConfig, AutoModelForSeq2SeqLM\n",
    "from sklearn.metrics import classification_report, confusion_matrix\n",
    "import seaborn as sns\n",
    "import matplotlib.pyplot as plt\n",
    "from tqdm.auto import tqdm\n",
    "import os\n",
    "import re\n",
    "import getpass # To securely ask for the token\n"
   ]
  },
  {
   "cell_type": "code",
   "execution_count": 4,
   "metadata": {
    "execution": {
     "iopub.execute_input": "2025-08-01T06:38:30.325986Z",
     "iopub.status.busy": "2025-08-01T06:38:30.325665Z",
     "iopub.status.idle": "2025-08-01T06:38:30.330164Z",
     "shell.execute_reply": "2025-08-01T06:38:30.329404Z",
     "shell.execute_reply.started": "2025-08-01T06:38:30.325966Z"
    },
    "trusted": true
   },
   "outputs": [],
   "source": [
    "# Set a style for plots and fonts\n",
    "plt.style.use('ggplot')\n",
    "plt.rcParams['font.sans-serif'] = ['Hind Siliguri', 'SolaimanLipi', 'Arial Unicode MS']\n",
    "plt.rcParams['axes.unicode_minus'] = False"
   ]
  },
  {
   "cell_type": "code",
   "execution_count": 5,
   "metadata": {
    "execution": {
     "iopub.execute_input": "2025-08-01T06:38:30.331162Z",
     "iopub.status.busy": "2025-08-01T06:38:30.330948Z",
     "iopub.status.idle": "2025-08-01T06:38:30.342890Z",
     "shell.execute_reply": "2025-08-01T06:38:30.342326Z",
     "shell.execute_reply.started": "2025-08-01T06:38:30.331137Z"
    },
    "trusted": true
   },
   "outputs": [],
   "source": [
    "def create_dummy_test_file():\n",
    "    # ... (same function as before)\n",
    "    data = { 'Review': [ \"খাবারটা দারুন কিন্তু পরিবেশটা খুব নোংরা।\", \"সার্ভিস খুবই স্লো, তবে স্টাফরা বিনয়ী।\", \"দাম একটু বেশি মনে হলেও খাবারের মান ভালো।\", \"বইটির প্রিন্ট কোয়ালিটি চমৎকার এবং ডেলিভারিও দ্রুত ছিল।\", \"ফোনটা ভালোই, কিন্তু ব্যাটারি ব্যাকআপ হতাশাজনক।\" ], 'Aspects': [ \"খাবার, পরিবেশ\", \"সার্ভিস, স্টাফ\", \"দাম, খাবারের মান\", \"প্রিন্ট কোয়ালিটি, ডেলিভারি\", \"ফোন, ব্যাটারি\" ], 'Sentiments': [ \"positive, negative\", \"negative, positive\", \"negative, positive\", \"positive, positive\", \"neutral, negative\" ] }\n",
    "    pd.DataFrame(data).to_csv('test.csv', index=False)\n",
    "    print(\"Dummy 'test.csv' created.\")"
   ]
  },
  {
   "cell_type": "code",
   "execution_count": 6,
   "metadata": {
    "execution": {
     "iopub.execute_input": "2025-08-01T06:38:30.343904Z",
     "iopub.status.busy": "2025-08-01T06:38:30.343688Z",
     "iopub.status.idle": "2025-08-01T06:38:30.354711Z",
     "shell.execute_reply": "2025-08-01T06:38:30.354107Z",
     "shell.execute_reply.started": "2025-08-01T06:38:30.343881Z"
    },
    "trusted": true
   },
   "outputs": [],
   "source": [
    "MODEL_CONFIG = {\n",
    "    \"Ministral-8B-Instruct\": 'mistralai/Ministral-8B-Instruct-2410',\n",
    "}\n",
    "TEST_FILE_PATH = '/kaggle/input/babsatestset/test_set.csv'\n",
    "BATCH_SIZE = 16"
   ]
  },
  {
   "cell_type": "code",
   "execution_count": null,
   "metadata": {
    "execution": {
     "iopub.execute_input": "2025-08-01T06:38:30.356125Z",
     "iopub.status.busy": "2025-08-01T06:38:30.355516Z",
     "iopub.status.idle": "2025-08-01T06:38:30.367680Z",
     "shell.execute_reply": "2025-08-01T06:38:30.366873Z",
     "shell.execute_reply.started": "2025-08-01T06:38:30.356101Z"
    },
    "trusted": true
   },
   "outputs": [],
   "source": [
    "#try:\n",
    " #   HF_TOKEN = os.environ.get(\"HF_TOKEN\") or getpass.getpass(\"Enter your Hugging Face token: \")\n",
    "#except (ImportError, ModuleNotFoundError):\n",
    " #   HF_TOKEN = input(\"Enter your Hugging Face token: \")"
   ]
  },
  {
   "cell_type": "code",
   "execution_count": 8,
   "metadata": {
    "execution": {
     "iopub.execute_input": "2025-08-01T06:38:30.368763Z",
     "iopub.status.busy": "2025-08-01T06:38:30.368489Z",
     "iopub.status.idle": "2025-08-01T06:38:30.383825Z",
     "shell.execute_reply": "2025-08-01T06:38:30.383022Z",
     "shell.execute_reply.started": "2025-08-01T06:38:30.368738Z"
    },
    "trusted": true
   },
   "outputs": [],
   "source": [
    "def load_model_and_tokenizer(model_id, token):\n",
    "    # ... (This function remains the same as the last version) ...\n",
    "    # It correctly loads the model using the right class and quantization.\n",
    "    # We will add one thing: setting the padding side for Causal LMs.\n",
    "    print(f\"\\nLoading model: {model_id}\")\n",
    "    is_causal_lm = \"t5\" not in model_id.lower() and \"bart\" not in model_id.lower()\n",
    "\n",
    "    if is_causal_lm:\n",
    "        model_class = AutoModelForCausalLM\n",
    "        quantization_config = BitsAndBytesConfig(load_in_4bit=True, bnb_4bit_quant_type=\"nf4\", bnb_4bit_compute_dtype=torch.bfloat16)\n",
    "        model_kwargs = {\"device_map\": \"auto\", \"trust_remote_code\": True}\n",
    "    else:\n",
    "        model_class = AutoModelForSeq2SeqLM\n",
    "        model_kwargs = {\"torch_dtype\": torch.bfloat16, \"device_map\": \"auto\"}\n",
    "        quantization_config = None\n",
    "\n",
    "    tokenizer = AutoTokenizer.from_pretrained(model_id, token=token)\n",
    "    model = model_class.from_pretrained(model_id, quantization_config=quantization_config, token=token, **model_kwargs)\n",
    "    \n",
    "    if is_causal_lm and tokenizer.pad_token is None:\n",
    "        tokenizer.pad_token = tokenizer.eos_token\n",
    "        # CRITICAL for Causal LMs: Pad on the left for batch generation\n",
    "        tokenizer.padding_side = 'left'\n",
    "\n",
    "    return model, tokenizer\n",
    "\n",
    "\n",
    "def generate_response_batch(prompts, model, tokenizer):\n",
    "    \"\"\"\n",
    "    Generates responses for a BATCH of prompts.\n",
    "    This version is corrected to handle the tokenizer output correctly.\n",
    "    \"\"\"\n",
    "    \n",
    "    # Check if the model is a T5-style model or a Causal LM\n",
    "    is_causal_lm = \"t5\" not in model.config.model_type.lower()\n",
    "    \n",
    "    if is_causal_lm:\n",
    "        # Step 1: Apply the chat template to each prompt to get formatted strings\n",
    "        # The template adds the special tokens like [INST], [/INST] etc.\n",
    "        formatted_prompts = [\n",
    "            tokenizer.apply_chat_template([{\"role\": \"user\", \"content\": p}], tokenize=False, add_generation_prompt=True)\n",
    "            for p in prompts\n",
    "        ]\n",
    "        \n",
    "        # Step 2: Tokenize the batch of formatted strings\n",
    "        # The tokenizer now correctly returns a dictionary {'input_ids': ..., 'attention_mask': ...}\n",
    "        tokenized_inputs = tokenizer(\n",
    "            formatted_prompts,\n",
    "            return_tensors=\"pt\",\n",
    "            padding=True, # Enable padding\n",
    "            truncation=True,\n",
    "            max_length=512 # Add a max_length to prevent overly long inputs\n",
    "        ).to(model.device)\n",
    "\n",
    "    else:\n",
    "        # For T5, just tokenize the batch directly (this was already correct)\n",
    "        tokenized_inputs = tokenizer(\n",
    "            prompts, return_tensors=\"pt\", padding=True, truncation=True, max_length=512\n",
    "        ).to(model.device)\n",
    "\n",
    "    # Generate outputs for the whole batch. Now **tokenized_inputs works correctly.\n",
    "    outputs = model.generate(**tokenized_inputs, max_new_tokens=50, pad_token_id=tokenizer.pad_token_id)\n",
    "    \n",
    "    if is_causal_lm:\n",
    "        # Decode only the newly generated tokens for Causal LMs\n",
    "        # We use the length of the *input_ids* from our dictionary\n",
    "        responses = tokenizer.batch_decode(outputs[:, tokenized_inputs['input_ids'].shape[-1]:], skip_special_tokens=True)\n",
    "    else:\n",
    "        # Decode the full sequence for Seq2Seq models\n",
    "        responses = tokenizer.batch_decode(outputs, skip_special_tokens=True)\n",
    "        \n",
    "    return [r.strip() for r in responses]"
   ]
  },
  {
   "cell_type": "code",
   "execution_count": 9,
   "metadata": {
    "execution": {
     "iopub.execute_input": "2025-08-01T06:38:30.385002Z",
     "iopub.status.busy": "2025-08-01T06:38:30.384735Z",
     "iopub.status.idle": "2025-08-01T06:38:30.398017Z",
     "shell.execute_reply": "2025-08-01T06:38:30.397341Z",
     "shell.execute_reply.started": "2025-08-01T06:38:30.384973Z"
    },
    "trusted": true
   },
   "outputs": [],
   "source": [
    "def parse_generated_aspects(text):\n",
    "    # ... (same function as before)\n",
    "    if not text: return set()\n",
    "    aspects = [a.strip() for a in text.split(',')]\n",
    "    return set(filter(None, aspects))\n",
    "\n",
    "def calculate_extraction_metrics(predicted_set, true_set):\n",
    "    # ... (same function as before)\n",
    "    tp = len(predicted_set.intersection(true_set))\n",
    "    fp = len(predicted_set.difference(true_set))\n",
    "    fn = len(true_set.difference(predicted_set))\n",
    "    return tp, fp, fn"
   ]
  },
  {
   "cell_type": "code",
   "execution_count": 10,
   "metadata": {
    "execution": {
     "iopub.execute_input": "2025-08-01T06:38:30.400600Z",
     "iopub.status.busy": "2025-08-01T06:38:30.400185Z",
     "iopub.status.idle": "2025-08-01T06:38:30.505930Z",
     "shell.execute_reply": "2025-08-01T06:38:30.505115Z",
     "shell.execute_reply.started": "2025-08-01T06:38:30.400583Z"
    },
    "trusted": true
   },
   "outputs": [
    {
     "name": "stdout",
     "output_type": "stream",
     "text": [
      "Using device: cuda\n"
     ]
    }
   ],
   "source": [
    "device = torch.device(\"cuda\" if torch.cuda.is_available() else \"cpu\")\n",
    "print(f\"Using device: {device}\")\n",
    "\n",
    "if not os.path.exists(TEST_FILE_PATH):\n",
    "    create_dummy_test_file()\n",
    "df = pd.read_csv(TEST_FILE_PATH)\n"
   ]
  },
  {
   "cell_type": "code",
   "execution_count": 11,
   "metadata": {
    "execution": {
     "iopub.execute_input": "2025-08-01T06:38:30.506965Z",
     "iopub.status.busy": "2025-08-01T06:38:30.506732Z",
     "iopub.status.idle": "2025-08-01T09:04:04.884540Z",
     "shell.execute_reply": "2025-08-01T09:04:04.883611Z",
     "shell.execute_reply.started": "2025-08-01T06:38:30.506930Z"
    },
    "trusted": true
   },
   "outputs": [
    {
     "name": "stdout",
     "output_type": "stream",
     "text": [
      "--- Starting Aspect Extraction Evaluation for all models ---\n",
      "\n",
      "Loading model: mistralai/Ministral-8B-Instruct-2410\n"
     ]
    },
    {
     "name": "stderr",
     "output_type": "stream",
     "text": [
      "You are using the default legacy behaviour of the <class 'transformers.models.llama.tokenization_llama_fast.LlamaTokenizerFast'>. This is expected, and simply means that the `legacy` (previous) behavior will be used so nothing changes for you. If you want to use the new behaviour, set `legacy=False`. This should only be set if you understand what it means, and thoroughly read the reason why this was added as explained in https://github.com/huggingface/transformers/pull/24565 - if you loaded a llama tokenizer from a GGUF file you can ignore this message.\n",
      "2025-08-01 06:38:34.919084: E external/local_xla/xla/stream_executor/cuda/cuda_fft.cc:477] Unable to register cuFFT factory: Attempting to register factory for plugin cuFFT when one has already been registered\n",
      "WARNING: All log messages before absl::InitializeLog() is called are written to STDERR\n",
      "E0000 00:00:1754030314.943666     161 cuda_dnn.cc:8310] Unable to register cuDNN factory: Attempting to register factory for plugin cuDNN when one has already been registered\n",
      "E0000 00:00:1754030314.950006     161 cuda_blas.cc:1418] Unable to register cuBLAS factory: Attempting to register factory for plugin cuBLAS when one has already been registered\n"
     ]
    },
    {
     "data": {
      "application/vnd.jupyter.widget-view+json": {
       "model_id": "ce8e27d271694817af0f32c42c398a45",
       "version_major": 2,
       "version_minor": 0
      },
      "text/plain": [
       "Loading checkpoint shards:   0%|          | 0/4 [00:00<?, ?it/s]"
      ]
     },
     "metadata": {},
     "output_type": "display_data"
    },
    {
     "data": {
      "application/vnd.jupyter.widget-view+json": {
       "model_id": "3bfffad7e3be43538fdb30138836b2b2",
       "version_major": 2,
       "version_minor": 0
      },
      "text/plain": [
       "AE Batching (Ministral-8B-Instruct):   0%|          | 0/155 [00:00<?, ?it/s]"
      ]
     },
     "metadata": {},
     "output_type": "display_data"
    },
    {
     "name": "stdout",
     "output_type": "stream",
     "text": [
      "\n",
      "================================================================================\n",
      "--- CONSOLIDATED ASPECT EXTRACTION RESULTS ---\n",
      "================================================================================\n",
      "\n",
      "Model: Ministral-8B-Instruct\n",
      "  Precision: 0.0766, Recall: 0.3397, F1-Score: 0.1250\n",
      "\n"
     ]
    },
    {
     "data": {
      "image/png": "[encoded data removed]",
      "text/plain": [
       "<Figure size 1200x700 with 1 Axes>"
      ]
     },
     "metadata": {},
     "output_type": "display_data"
    }
   ],
   "source": [
    "ae_results = {}\n",
    "\n",
    "print(\"--- Starting Aspect Extraction Evaluation for all models ---\")\n",
    "\n",
    "for model_name, model_id in MODEL_CONFIG.items():\n",
    "    try:\n",
    "        model, tokenizer = load_model_and_tokenizer(model_id, token=HF_TOKEN)\n",
    "    except Exception as e:\n",
    "        print(f\"Could not load {model_name}. Skipping. Error: {e}\")\n",
    "        continue\n",
    "        \n",
    "    # Prepare all AE prompts\n",
    "    ae_prompts = [\n",
    "        (f\"Your task is to extract aspects from a given Bangla review. Aspects are the main topics or features being discussed. \"\n",
    "         f\"List only the aspects, separated by commas. Do not add any extra explanation.\\n\\n\"\n",
    "         f\"Review: \\\"{row['review']}\\\"\\n\\nAspects:\")\n",
    "        for index, row in df.iterrows()\n",
    "    ]\n",
    "    \n",
    "    # Run batch inference\n",
    "    generated_aspects_all = []\n",
    "    for i in tqdm(range(0, len(ae_prompts), BATCH_SIZE), desc=f\"AE Batching ({model_name})\"):\n",
    "        batch_prompts = ae_prompts[i:i + BATCH_SIZE]\n",
    "        batch_responses = generate_response_batch(batch_prompts, model, tokenizer)\n",
    "        generated_aspects_all.extend(batch_responses)\n",
    "\n",
    "    # Evaluate results\n",
    "    total_tp, total_fp, total_fn = 0, 0, 0\n",
    "    for i, row in df.iterrows():\n",
    "        # IMPORTANT: Make sure your column names 'review' and 'annotated_aspect' are correct.\n",
    "        true_aspects_set = set([a.strip() for a in str(row['annotated_aspect']).split(',')])\n",
    "        predicted_aspects_set = parse_generated_aspects(generated_aspects_all[i])\n",
    "        tp, fp, fn = calculate_extraction_metrics(predicted_aspects_set, true_aspects_set)\n",
    "        total_tp += tp\n",
    "        total_fp += fp\n",
    "        total_fn += fn\n",
    "\n",
    "    # Store metrics for this model\n",
    "    precision = total_tp / (total_tp + total_fp) if (total_tp + total_fp) > 0 else 0\n",
    "    recall = total_tp / (total_tp + total_fn) if (total_tp + total_fn) > 0 else 0\n",
    "    f1_score = 2 * (precision * recall) / (precision + recall) if (precision + recall) > 0 else 0\n",
    "    \n",
    "    ae_results[model_name] = {'Precision': precision, 'Recall': recall, 'F1-Score': f1_score}\n",
    "\n",
    "    # Clean up memory\n",
    "    del model, tokenizer\n",
    "    torch.cuda.empty_cache()\n",
    "\n",
    "# --- Reporting and Visualization for Aspect Extraction ---\n",
    "print(\"\\n\" + \"=\"*80)\n",
    "print(\"--- CONSOLIDATED ASPECT EXTRACTION RESULTS ---\")\n",
    "print(\"=\"*80 + \"\\n\")\n",
    "\n",
    "# Print a clean table\n",
    "for model_name, metrics in ae_results.items():\n",
    "    print(f\"Model: {model_name}\")\n",
    "    print(f\"  Precision: {metrics['Precision']:.4f}, Recall: {metrics['Recall']:.4f}, F1-Score: {metrics['F1-Score']:.4f}\\n\")\n",
    "\n",
    "# Create a DataFrame for easy plotting\n",
    "plot_data = []\n",
    "for model_name, metrics in ae_results.items():\n",
    "    for metric_name, score in metrics.items():\n",
    "        plot_data.append({'Model': model_name, 'Metric': metric_name, 'Score': score})\n",
    "\n",
    "plot_df = pd.DataFrame(plot_data)\n",
    "\n",
    "plt.figure(figsize=(12, 7))\n",
    "sns.barplot(data=plot_df, x='Model', y='Score', hue='Metric')\n",
    "plt.title('Comparative Aspect Extraction Performance', fontsize=16)\n",
    "plt.ylabel('Score')\n",
    "plt.xlabel('Model')\n",
    "plt.xticks(rotation=15)\n",
    "plt.ylim(0, 1)\n",
    "plt.tight_layout()\n",
    "plt.savefig('comparative_aspect_extraction_metrics.png')\n",
    "plt.show()"
   ]
  },
  {
   "cell_type": "code",
   "execution_count": 12,
   "metadata": {
    "execution": {
     "iopub.execute_input": "2025-08-01T09:04:04.886025Z",
     "iopub.status.busy": "2025-08-01T09:04:04.885577Z",
     "iopub.status.idle": "2025-08-01T10:04:09.400087Z",
     "shell.execute_reply": "2025-08-01T10:04:09.399119Z",
     "shell.execute_reply.started": "2025-08-01T09:04:04.886000Z"
    },
    "trusted": true
   },
   "outputs": [
    {
     "name": "stdout",
     "output_type": "stream",
     "text": [
      "--- Starting Sentiment Classification Evaluation for all models ---\n",
      "\n",
      "Loading model: mistralai/Ministral-8B-Instruct-2410\n"
     ]
    },
    {
     "data": {
      "application/vnd.jupyter.widget-view+json": {
       "model_id": "c5ee0a8c5c7f462089961baa0497f76d",
       "version_major": 2,
       "version_minor": 0
      },
      "text/plain": [
       "Loading checkpoint shards:   0%|          | 0/4 [00:00<?, ?it/s]"
      ]
     },
     "metadata": {},
     "output_type": "display_data"
    },
    {
     "data": {
      "application/vnd.jupyter.widget-view+json": {
       "model_id": "6fd9ceba9c8b4ab184012549680e7345",
       "version_major": 2,
       "version_minor": 0
      },
      "text/plain": [
       "SC Batching (Ministral-8B-Instruct):   0%|          | 0/173 [00:00<?, ?it/s]"
      ]
     },
     "metadata": {},
     "output_type": "display_data"
    },
    {
     "name": "stdout",
     "output_type": "stream",
     "text": [
      "\n",
      "================================================================================\n",
      "--- CONSOLIDATED SENTIMENT CLASSIFICATION RESULTS (ORACLE MODE) ---\n",
      "================================================================================\n",
      "\n",
      "--- Classification Report for Ministral-8B-Instruct ---\n",
      "              precision    recall  f1-score   support\n",
      "\n",
      "    negative       0.67      0.80      0.73       822\n",
      "     neutral       0.30      0.02      0.04       572\n",
      "    positive       0.70      0.89      0.78      1369\n",
      "\n",
      "    accuracy                           0.68      2763\n",
      "   macro avg       0.55      0.57      0.52      2763\n",
      "weighted avg       0.61      0.68      0.61      2763\n",
      "\n"
     ]
    },
    {
     "data": {
      "image/png": "[encoded data removed]",
      "text/plain": [
       "<Figure size 800x600 with 2 Axes>"
      ]
     },
     "metadata": {},
     "output_type": "display_data"
    }
   ],
   "source": [
    "sc_results = {}\n",
    "\n",
    "print(\"--- Starting Sentiment Classification Evaluation for all models ---\")\n",
    "  \n",
    "for model_name, model_id in MODEL_CONFIG.items():\n",
    "    try:\n",
    "        model, tokenizer = load_model_and_tokenizer(model_id, token=HF_TOKEN)\n",
    "    except Exception as e:\n",
    "        print(f\"Could not load {model_name}. Skipping. Error: {e}\")  \n",
    "        continue\n",
    "        \n",
    "    # Prepare all SC prompts\n",
    "    sc_prompts_with_ground_truth = []\n",
    "    # IMPORTANT: Make sure your column names 'review', 'annotated_aspect', 'annotated_sentiment' are correct.\n",
    "    for index, row in df.iterrows():\n",
    "        aspects = str(row['annotated_aspect']).split(',')\n",
    "        sentiments = str(row['annotated_sentiment']).split(',')\n",
    "        if len(aspects) != len(sentiments): continue # Skip malformed rows\n",
    "        \n",
    "        for aspect, sentiment in zip(aspects, sentiments):\n",
    "            aspect, sentiment = aspect.strip(), sentiment.strip()\n",
    "            prompt = (\n",
    "                f\"Given the Bangla review and a specific aspect, determine the sentiment towards that aspect. \"\n",
    "                f\"You must answer with only one word: positive, negative, or neutral.\\n\\n\"\n",
    "                f\"Review: \\\"{row['review']}\\\"\\nAspect: \\\"{aspect}\\\"\\n\\nSentiment:\")\n",
    "            sc_prompts_with_ground_truth.append({'prompt': prompt, 'true_sentiment': sentiment})\n",
    "\n",
    "    sc_prompts = [item['prompt'] for item in sc_prompts_with_ground_truth]\n",
    "    true_sentiments = [item['true_sentiment'] for item in sc_prompts_with_ground_truth]\n",
    "    \n",
    "    # Run batch inference\n",
    "    predicted_sentiments_all = []\n",
    "    for i in tqdm(range(0, len(sc_prompts), BATCH_SIZE), desc=f\"SC Batching ({model_name})\"):\n",
    "        batch_prompts = sc_prompts[i:i + BATCH_SIZE]\n",
    "        batch_responses = generate_response_batch(batch_prompts, model, tokenizer)\n",
    "        predicted_sentiments_all.extend(batch_responses)\n",
    "\n",
    "    # Clean and evaluate results\n",
    "    cleaned_sentiments = []\n",
    "    for gen_sent in predicted_sentiments_all:\n",
    "        s = gen_sent.lower()\n",
    "        if \"positive\" in s: cleaned_sentiments.append(\"positive\")\n",
    "        elif \"negative\" in s: cleaned_sentiments.append(\"negative\")\n",
    "        else: cleaned_sentiments.append(\"neutral\")\n",
    "\n",
    "    # Store results for this model\n",
    "    sc_results[model_name] = {'true': true_sentiments, 'pred': cleaned_sentiments}\n",
    "\n",
    "    # Clean up memory\n",
    "    del model, tokenizer\n",
    "    torch.cuda.empty_cache()\n",
    "\n",
    "# --- Reporting and Visualization for Sentiment Classification ---\n",
    "print(\"\\n\" + \"=\"*80)\n",
    "print(\"--- CONSOLIDATED SENTIMENT CLASSIFICATION RESULTS (ORACLE MODE) ---\")\n",
    "print(\"=\"*80 + \"\\n\")\n",
    "\n",
    "for model_name, results in sc_results.items():\n",
    "    print(f\"--- Classification Report for {model_name} ---\")\n",
    "    true_s = results['true']\n",
    "    pred_s = results['pred']\n",
    "    print(classification_report(true_s, pred_s, zero_division=0))\n",
    "    \n",
    "    # Plotting confusion matrix\n",
    "    class_names = sorted(list(set(true_s)))\n",
    "    cm = confusion_matrix(true_s, pred_s, labels=class_names)\n",
    "    plt.figure(figsize=(8, 6))\n",
    "    sns.heatmap(cm, annot=True, fmt='d', cmap='Blues', xticklabels=class_names, yticklabels=class_names)\n",
    "    plt.title(f'Sentiment Classification Confusion Matrix\\n({model_name})', fontsize=16)\n",
    "    plt.xlabel('Predicted Label')\n",
    "    plt.ylabel('True Label')\n",
    "    plt.savefig(f'comparative_sentiment_matrix_{model_name.replace(\"/\", \"_\")}.png')\n",
    "    plt.show()"
   ]
  },
  {
   "cell_type": "code",
   "execution_count": null,
   "metadata": {
    "trusted": true
   },
   "outputs": [],
   "source": []
  }
 ],
 "metadata": {
  "kaggle": {
   "accelerator": "nvidiaTeslaT4",
   "dataSources": [
    {
     "datasetId": 7985234,
     "sourceId": 12636894,
     "sourceType": "datasetVersion"
    }
   ],
   "dockerImageVersionId": 31090,
   "isGpuEnabled": true,
   "isInternetEnabled": true,
   "language": "python",
   "sourceType": "notebook"
  },
  "kernelspec": {
   "display_name": "Python 3",
   "language": "python",
   "name": "python3"
  },
  "language_info": {
   "codemirror_mode": {
    "name": "ipython",
    "version": 3
   },
   "file_extension": ".py",
   "mimetype": "text/x-python",
   "name": "python",
   "nbconvert_exporter": "python",
   "pygments_lexer": "ipython3",
   "version": "3.11.13"
  }
 },
 "nbformat": 4,
 "nbformat_minor": 4
}
